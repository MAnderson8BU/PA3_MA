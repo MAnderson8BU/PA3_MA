{
 "cells": [
  {
   "cell_type": "markdown",
   "id": "2ac72749",
   "metadata": {},
   "source": [
    "## Task One: List Operations"
   ]
  },
  {
   "cell_type": "code",
   "execution_count": 1,
   "id": "6f4197fe",
   "metadata": {},
   "outputs": [],
   "source": [
    "numbers=[10,20,30,40,50]"
   ]
  },
  {
   "cell_type": "code",
   "execution_count": 2,
   "id": "9906778c",
   "metadata": {},
   "outputs": [],
   "source": [
    "numbers.append(60)"
   ]
  },
  {
   "cell_type": "code",
   "execution_count": 3,
   "id": "f1ee749c",
   "metadata": {},
   "outputs": [],
   "source": [
    "numbers.insert(0,5)"
   ]
  },
  {
   "cell_type": "code",
   "execution_count": 7,
   "id": "d5c18c00",
   "metadata": {},
   "outputs": [],
   "source": [
    "numbers.remove(10)"
   ]
  },
  {
   "cell_type": "code",
   "execution_count": 8,
   "id": "402a8131",
   "metadata": {},
   "outputs": [
    {
     "name": "stdout",
     "output_type": "stream",
     "text": [
      "[5, 20, 30, 40, 50, 60]\n"
     ]
    }
   ],
   "source": [
    "print(numbers)"
   ]
  },
  {
   "cell_type": "markdown",
   "id": "e640f29c",
   "metadata": {},
   "source": [
    "## Task two: Tuple Basics"
   ]
  },
  {
   "cell_type": "code",
   "execution_count": 9,
   "id": "69e63f88",
   "metadata": {},
   "outputs": [],
   "source": [
    "days=(\"Monday\",\"Tuesday\",\"Wednesday\",\"Thursday\",\"Friday\",\"Saturday\",\"Sunday\")"
   ]
  },
  {
   "cell_type": "code",
   "execution_count": 10,
   "id": "6f11cd07",
   "metadata": {},
   "outputs": [
    {
     "name": "stdout",
     "output_type": "stream",
     "text": [
      "Wednesday\n"
     ]
    }
   ],
   "source": [
    "print(days[2])"
   ]
  },
  {
   "cell_type": "code",
   "execution_count": 12,
   "id": "5b4b29a7",
   "metadata": {},
   "outputs": [],
   "source": [
    "#days[1]=\"Funday\"\n",
    "# Note TypeError, tuple does not support changing an item in the tuple."
   ]
  },
  {
   "cell_type": "markdown",
   "id": "009b5739",
   "metadata": {},
   "source": [
    "## Task three: Reversing Sublist"
   ]
  },
  {
   "cell_type": "code",
   "execution_count": 26,
   "id": "82dde90a",
   "metadata": {},
   "outputs": [],
   "source": [
    "letters=[\"a\",\"b\",\"c\",\"d\",\"e\",\"f\",\"g\",\"h\",\"i\",\"j\",\"k\",\"l\",\"m\",\"n\",\"o\",\"p\",\"q\",\"r\",\"s\",\"t\",\"u\",\"v\",\"w\",\"x\",\"y\",\"z\"]"
   ]
  },
  {
   "cell_type": "code",
   "execution_count": 37,
   "id": "7ff9b9e7",
   "metadata": {},
   "outputs": [],
   "source": [
    "sublist=letters[10:16]"
   ]
  },
  {
   "cell_type": "code",
   "execution_count": 39,
   "id": "a17ff176",
   "metadata": {},
   "outputs": [
    {
     "name": "stdout",
     "output_type": "stream",
     "text": [
      "The sublist is: ['p', 'o', 'n', 'm', 'l', 'k']\n"
     ]
    }
   ],
   "source": [
    "print(f\"The sublist is: {sublist[::-1]}\")"
   ]
  },
  {
   "cell_type": "markdown",
   "id": "57c88cab",
   "metadata": {},
   "source": [
    "## Task four: Tuple Packing and Unpacking"
   ]
  },
  {
   "cell_type": "code",
   "execution_count": 14,
   "id": "6e8370f2",
   "metadata": {},
   "outputs": [],
   "source": [
    "student=(\"Mason\",\"Anderson\",21,\"Economics\")"
   ]
  },
  {
   "cell_type": "code",
   "execution_count": 15,
   "id": "fd0855b8",
   "metadata": {},
   "outputs": [],
   "source": [
    "firstname,lastname,age,fav_subject=student"
   ]
  },
  {
   "cell_type": "code",
   "execution_count": 17,
   "id": "1effbc18",
   "metadata": {},
   "outputs": [
    {
     "name": "stdout",
     "output_type": "stream",
     "text": [
      "My first name is:  Mason\n",
      "My last name is:  Anderson\n",
      "My age is: 21\n",
      "My favorite subject is:  Economics\n"
     ]
    }
   ],
   "source": [
    "print(f\"My first name is: \",firstname)\n",
    "print(f\"My last name is: \",lastname)\n",
    "print(f\"My age is: {age}\")\n",
    "print(f\"My favorite subject is: \",fav_subject)"
   ]
  },
  {
   "cell_type": "markdown",
   "id": "4c1d6080",
   "metadata": {},
   "source": [
    "## Task five: Shopping list"
   ]
  },
  {
   "cell_type": "code",
   "execution_count": 18,
   "id": "d0e9c146",
   "metadata": {},
   "outputs": [],
   "source": [
    "Shopping_list=[\"Chicken\",\"Peanut Butter\",\"Yogurt\",\"Milk\",\"Granola\"]"
   ]
  },
  {
   "cell_type": "code",
   "execution_count": 20,
   "id": "9cfc42e1",
   "metadata": {},
   "outputs": [
    {
     "data": {
      "text/plain": [
       "5"
      ]
     },
     "execution_count": 20,
     "metadata": {},
     "output_type": "execute_result"
    }
   ],
   "source": [
    "len(Shopping_list)"
   ]
  },
  {
   "cell_type": "code",
   "execution_count": 21,
   "id": "72585cfa",
   "metadata": {},
   "outputs": [],
   "source": [
    "Shopping_list[2]=\"Chips\""
   ]
  },
  {
   "cell_type": "code",
   "execution_count": 22,
   "id": "42261611",
   "metadata": {},
   "outputs": [],
   "source": [
    "Shopping_list.sort()"
   ]
  },
  {
   "cell_type": "code",
   "execution_count": 23,
   "id": "36b8b524",
   "metadata": {},
   "outputs": [
    {
     "name": "stdout",
     "output_type": "stream",
     "text": [
      "['Chicken', 'Chips', 'Granola', 'Milk', 'Peanut Butter']\n"
     ]
    }
   ],
   "source": [
    "print(Shopping_list)"
   ]
  },
  {
   "cell_type": "code",
   "execution_count": null,
   "id": "92dd45db",
   "metadata": {},
   "outputs": [],
   "source": []
  }
 ],
 "metadata": {
  "kernelspec": {
   "display_name": "Python 3 (ipykernel)",
   "language": "python",
   "name": "python3"
  },
  "language_info": {
   "codemirror_mode": {
    "name": "ipython",
    "version": 3
   },
   "file_extension": ".py",
   "mimetype": "text/x-python",
   "name": "python",
   "nbconvert_exporter": "python",
   "pygments_lexer": "ipython3",
   "version": "3.11.4"
  }
 },
 "nbformat": 4,
 "nbformat_minor": 5
}
